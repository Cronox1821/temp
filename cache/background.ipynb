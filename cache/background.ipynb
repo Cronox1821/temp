{
 "cells": [
  {
   "cell_type": "markdown",
   "metadata": {
    "id": "UCCOMbmnLfHY"
   },
   "source": [
    "# Problema 1"
   ]
  },
  {
   "cell_type": "markdown",
   "metadata": {
    "id": "AHPLM97ONSwR"
   },
   "source": [
    "Las matrices $A$ y $B$ representan las ventas en dos años, en millones de dólares, de los tres productos de una empresa en las cuatro regiones en que está disponible. Es decir, $a_{ij}$ y $b_{ij}$ representan el monto de las ventas del producto $i$ en la región $j$ el primer y segundo año, respectivamente:\n",
    "\n",
    "<br>\n",
    "\n",
    "\\begin{split}\n",
    "A = \\begin{pmatrix}\n",
    " 2,6 &  4,8 &  1,8 & 0,9 \\\\\n",
    " 3,2 &  4,4 &  2,5 & 2,8 \\\\\n",
    " 2,4 &  3,6 &  3,8 & 2,5 \\\\\n",
    "\\end{pmatrix} \\text{ } B= \\begin{pmatrix}\n",
    " 3,6 &  2,5 &  3,0 & 2,5 \\\\\n",
    " 4,5 &  5,0 &  3,5 & 3,8 \\\\\n",
    " 2,9 &  3,0 &  4,6 & 4,0 \\\\\n",
    "\\end{pmatrix}\n",
    "\\end{split}\n",
    "\n",
    "<br>\n",
    "\n",
    "1. Indique el orden de cada matriz.\n",
    "2. Calcule la matriz $S = A + B$.\n",
    "3. Calcule la matriz $D = B - A$.\n",
    "4. Indique el valor e interprete los elementos $s_{24}$ y $d_{24}$.\n",
    "5. Para el tercer año de funcionamiento, los tres productos ahora están disponibles en seis regiones. Durante este año, las ventas de esta empresa estarán registradas en una matriz $E$. ¿Es posible determinar la matriz $T = A + B + E$? Justifique su respuesta."
   ]
  },
  {
   "cell_type": "code",
   "execution_count": 30,
   "metadata": {},
   "outputs": [
    {
     "name": "stdout",
     "output_type": "stream",
     "text": [
      "El orden de la Matriz A es : 3 x 4\n",
      "El orden de la Matriz B es : 3 x 4\n",
      "Matriz S es:\n",
      "\n",
      "6.2   7.3   4.8   3.4   \n",
      "7.7   9.4   6.0   6.6   \n",
      "5.3   6.6   8.4   6.5   \n",
      "\n",
      "Matris D es:\n",
      "\n",
      "1.0   -2.3   1.2   1.6   \n",
      "1.3   0.6   1.0   1.0   \n",
      "0.5   -0.6   0.8   1.5   \n",
      "\n",
      "Valor s[2][4]: 6.6\n",
      "Sumando ambos años el producto 2 de la region 4 vendio un total de 6.6 Millones\n",
      "Valor d[2][4]: 1.0\n",
      "El producto 2 de la region 4 vendio 1 millon mas que lo especificado en el año A\n"
     ]
    }
   ],
   "source": [
    "import numpy as np\n",
    "# Ejemplo de interpretacion\n",
    "# Si se habla de a_23 hablaremos que el producto 2 de la region 3, la venta en los ultimos 2 años es de 2.5 millones de dolares\n",
    "A = np.array([\n",
    "     [2.6, 4.8, 1.8, 0.9],\n",
    "     [3.2, 4.4, 2.5, 2.8],\n",
    "     [2.4, 3.6, 3.8, 2.5]\n",
    "    ])\n",
    "\n",
    "B = np.array([\n",
    "     [3.6, 2.5, 3.0, 2.5], \n",
    "     [4.5, 5.0, 3.5, 3.8],\n",
    "     [2.9, 3.0, 4.6, 4.0]\n",
    "    ])\n",
    "\n",
    "def calculoMatriz(A,B):\n",
    "    temp = list()\n",
    "    S = list()\n",
    "    for A in A:\n",
    "        return A \n",
    "\n",
    "\n",
    "\n",
    "print(f'El orden de la Matriz A es : {len(A)} x {len(A[0])}')\n",
    "print(f'El orden de la Matriz B es : {len(B)} x {len(B[0])}')\n",
    "\n",
    "S = A + B \n",
    "D = B - A\n",
    "\n",
    "print('Matriz S es:\\n')\n",
    "for i in range(len(S)):\n",
    "    for j in S[i]:\n",
    "        print(f'{j:.1f}', end='   ')\n",
    "    print()\n",
    "\n",
    "    #for j in range(len(A[0])):\n",
    "    #    print(f'{A[j]}')\n",
    "print()\n",
    "print(f'Matris D es:\\n')\n",
    "for i in range(len(D)):\n",
    "    for j in D[i]:\n",
    "        print(f'{j:.1f}', end='   ')\n",
    "    print()\n",
    "\n",
    "print()\n",
    "print(f'Valor s[2][4]: {S[1][3]}')\n",
    "\n",
    "print('Sumando ambos años el producto 2 de la region 4 vendio un total de 6.6 Millones')\n",
    "\n",
    "print(f'Valor d[2][4]: {D[1][3]}')\n",
    "\n",
    "print('El producto 2 de la region 4 vendio 1 millon mas que lo especificado en el año A')\n",
    "# Para transponer matrices, se intercambia Fila por Columna\n",
    "# Las matrices se leen de la forma Fila, Columna\n",
    "print('No es posible hacer el calculo de una matriz 3x6 con 3x4, ilegalisimo')\n",
    "\n"
   ]
  },
  {
   "cell_type": "markdown",
   "metadata": {
    "id": "MdVDj7xheCLm"
   },
   "source": [
    "# Problema 2"
   ]
  },
  {
   "cell_type": "markdown",
   "metadata": {
    "id": "CGrP79UpeM6k"
   },
   "source": [
    "Una fábrica con sucursales en Japón y China, produce tres tipos de componentes $j$, para cinco modelos de computador $i$. Los costos de producción mensual, en miles de dólares, de ambas sucursales se representan en las matrices $J$ y $C$, respectivamente:\n",
    "\n",
    "<br>\n",
    "\n",
    "\\begin{split}\n",
    "J = \\begin{pmatrix}\n",
    " 100 &  200 &  150  \\\\\n",
    " 120 &  210 &  170  \\\\\n",
    " 112 &  200 &  131  \\\\\n",
    " 124 &  310 &  170  \\\\\n",
    " 136 &  156 &  140  \\\\\n",
    "\\end{pmatrix} \\text{ } C = \\begin{pmatrix}\n",
    " 110 &  190 &  160  \\\\\n",
    " 130 &  220 &  180  \\\\\n",
    " 146 &  190 &  141  \\\\\n",
    " 143 &  312 &  163  \\\\\n",
    " 137 &  116 &  156  \\\\\n",
    "\\end{pmatrix}\n",
    "\\end{split}\n",
    "\n",
    "<br>\n",
    "\n",
    "1. ¿Cuál es el orden de las matrices?\n",
    "2. Inteprete el elemento $j_{21}$ y $c_{12}$ en el contexto del problema.\n",
    "3. Utilizando *Python*, calcule el costo total de producción para cada modelo, considerando ambas sucursales.\n",
    "4. Un trabajador indica que, en la sucursal japonesa, el costo de producción del producto $3$, modelo $4$ de computador, es más alto que en la sucursal china. ¿Tiene razón? Justifique apropiadamente."
   ]
  },
  {
   "cell_type": "code",
   "execution_count": 53,
   "metadata": {},
   "outputs": [
    {
     "name": "stdout",
     "output_type": "stream",
     "text": [
      "El orden de ambas matrices es 5 x 3\n",
      "El elemento J[2][1] indica que los costos de produccion mensuales de la fabrica de japon seran de 120 mil dolares para el componente 1, modelo 2 de computador\n",
      "El elemento C[1][2] indica que los costos de produccion mensuales de la fabrica de china seran de 190 mil dolares para el componente 2, modelo 1 de computador\n",
      "[[210 390 310]\n",
      " [250 430 350]\n",
      " [258 390 272]\n",
      " [267 622 333]\n",
      " [273 272 296]]\n",
      "Costo de produccion total para el modelo 1 910\n",
      "Costo de produccion total para el modelo 2 1030\n",
      "Costo de produccion total para el modelo 3 920\n",
      "Costo de produccion total para el modelo 4 1222\n",
      "Costo de produccion total para el modelo 5 841\n"
     ]
    }
   ],
   "source": [
    "import numpy as np \n",
    "\n",
    "J = np.array([[100,200,150],\n",
    "              [120,210,170],\n",
    "              [112,200,131],\n",
    "              [124,310,170],\n",
    "              [136,156,140]])\n",
    "\n",
    "C = np.array([[110,190,160],\n",
    "              [130,220,180],\n",
    "              [146,190,141],\n",
    "              [143,312,163],\n",
    "              [137,116,156]])\n",
    "\n",
    "print(f\"El orden de ambas matrices es {len(C)} x {len(C[0])}\")\n",
    "print(f'El elemento J[2][1] indica que los costos de produccion mensuales de la fabrica de japon seran de {J[1][0]} mil dolares para el componente 1, modelo 2 de computador')\n",
    "print(f'El elemento C[1][2] indica que los costos de produccion mensuales de la fabrica de china seran de {C[0][1]} mil dolares para el componente 2, modelo 1 de computador')\n",
    "\n",
    "S = J + C\n",
    "modelos = list()\n",
    "print(S)\n",
    "\n",
    "for i in (S):\n",
    "    suma = 0\n",
    "    for j in i:\n",
    "        suma += j;\n",
    "    modelos.append(suma)\n",
    "\n",
    "for i, modelo in enumerate (modelos,1):\n",
    "    print(f'Costo de produccion total para el modelo {i} {modelo}') "
   ]
  },
  {
   "cell_type": "code",
   "execution_count": null,
   "metadata": {},
   "outputs": [],
   "source": []
  },
  {
   "cell_type": "markdown",
   "metadata": {
    "id": "d1kLjxmU8En9"
   },
   "source": [
    "# Problema 3"
   ]
  },
  {
   "cell_type": "markdown",
   "metadata": {
    "id": "kpido2Zy8zg0"
   },
   "source": [
    "La empresa Beta tiene cinco plantas en Chile, y en cada una de ellas fabrica siete productos. El número de unidades del producto $i$ fabricadas en la planta $j$ en una semana está representado en la matriz $C$ en el elemento $c_{ij}$.\n",
    "\n",
    "<br>\n",
    "\n",
    "\\begin{split}\n",
    "C = \\begin{pmatrix}\n",
    " 120 &  200 &  155 &  125  &  230 \\\\\n",
    " 155 &  130 &  110 &  160  &  180 \\\\\n",
    " 140 &  205 &  150 &  125  &  155 \\\\\n",
    " 130 &  120 &  230 &  225  &  125 \\\\\n",
    " 135 &  70  &  190 &  175  &  95  \\\\\n",
    " 110 &  265 &  180 &  230  &  180 \\\\\n",
    " 185 &  85  &  120 &  135  &  150 \\\\\n",
    "\\end{pmatrix}\n",
    "\\end{split}\n",
    "\n",
    "<br>\n",
    "\n",
    "La empresa se expande, creando cinco plantas en Ecuador que producen los mismos siete productos. La producción semanal de esta filial estará representada por una matriz $E$.\n",
    "\n",
    "1. Si se sabe que los volúmenes de producción semanal de la filial en Ecuador son un $20\\%$ menor que en Chile, calcule la matriz $E$ utilizando *Python*.\n",
    "2. Si representamos la producción semanal total de la empresa Beta, considerando ambas filiales, por la matriz $T$, escriba la expresión que calcula cada elemento de la matriz $T$ usando notación matricial.\n",
    "3. Calcule la matriz $T$ utilizando *Python*.\n",
    "4. Interprete los elementos $c_{34}$ y $t_{72}$ en el contexto del problema."
   ]
  },
  {
   "cell_type": "code",
   "execution_count": 75,
   "metadata": {},
   "outputs": [
    {
     "name": "stdout",
     "output_type": "stream",
     "text": [
      "Matriz E\n",
      "96.0   160.0   124.0   100.0   184.0   \n",
      "124.0   104.0   88.0   128.0   144.0   \n",
      "112.0   164.0   120.0   100.0   124.0   \n",
      "104.0   96.0   184.0   180.0   100.0   \n",
      "108.0   56.0   152.0   140.0   76.0   \n",
      "88.0   212.0   144.0   184.0   144.0   \n",
      "148.0   68.0   96.0   108.0   120.0   \n",
      "\n",
      "Matriz T\n",
      "216.0   360.0   279.0   225.0   414.0   \n",
      "279.0   234.0   198.0   288.0   324.0   \n",
      "252.0   369.0   270.0   225.0   279.0   \n",
      "234.0   216.0   414.0   405.0   225.0   \n",
      "243.0   126.0   342.0   315.0   171.0   \n",
      "198.0   477.0   324.0   414.0   324.0   \n",
      "333.0   153.0   216.0   243.0   270.0   \n",
      "C[3][4] El producto 3 de la planta 4 de Chile produce 125 unidades semanalmente\n",
      "T[7][2] La produccion total del producto 7 de la planta 2 de Chile y Ecuador es de 153 unidades semanales\n"
     ]
    }
   ],
   "source": [
    "import numpy as np\n",
    "\n",
    "C = np.array([\n",
    "    [120, 200, 155, 125, 230],\n",
    "    [155, 130, 110, 160, 180],\n",
    "    [140, 205, 150, 125, 155],\n",
    "    [130, 120, 230, 225, 125],\n",
    "    [135, 70, 190, 175, 95],\n",
    "    [110, 265, 180, 230, 180],\n",
    "    [185, 85, 120, 135, 150]\n",
    "    ])\n",
    "\n",
    "# Columnas = Plantas en Ecuador\n",
    "# Filas = Mismos productos\n",
    "\n",
    "E = C * 0.8\n",
    "\n",
    "print('Matriz E')\n",
    "for i in E:\n",
    "    for j in i:\n",
    "        print(f'{j:.1f}',end='   ')\n",
    "    print()\n",
    "\n",
    "T = E + C\n",
    "\n",
    "print()\n",
    "print('Matriz T')\n",
    "for i in T:\n",
    "    for j in i:\n",
    "        print(f'{j:.1f}',end='   ')\n",
    "    print()\n",
    "\n",
    "print(f'C[3][4] El producto 3 de la planta 4 de Chile produce {C[2][3]} unidades semanalmente')\n",
    "print(f'T[7][2] La produccion total del producto 7 de la planta 2 de Chile y Ecuador es de {T[6][1]:.0f} unidades semanales')"
   ]
  },
  {
   "cell_type": "markdown",
   "metadata": {
    "id": "DZh7JytTJKsb"
   },
   "source": [
    "# Problema 4"
   ]
  },
  {
   "cell_type": "markdown",
   "metadata": {
    "id": "biNp7JeIJU2I"
   },
   "source": [
    "Una empresa que fabrica zapatos tiene dos plantas, una en Valparaíso y la otra en Temuco. La empresa produce zapatos de color negro, blanco y café, tanto para niños, damas como caballeros. La capacidad actual de producción mensual (en miles de pares) para Valparaíso y Temuco, están dadas por las matrices $V$ y $T$, respectivamente. Para ambas matrices, según el orden en que se mencionan, las filas corresponden al color del calzado y las columnas al tipo de persona que utilizará el calzado.\n",
    "\n",
    "<br>\n",
    "\n",
    "\\begin{split}\n",
    "V = \\begin{pmatrix}\n",
    " 30 &  34 &  20  \\\\\n",
    " 45 &  20 &  16  \\\\\n",
    " 14 &  26 &  25  \\\\\n",
    "\\end{pmatrix} \\text{ } T = \\begin{pmatrix}\n",
    " 35 &  30 &  26  \\\\\n",
    " 52 &  25 &  18  \\\\\n",
    " 23 &  24 &  32  \\\\\n",
    "\\end{pmatrix}\n",
    "\\end{split}\n",
    "\n",
    "<br>\n",
    "\n",
    "1. Determine la producción mensual total de ambas plantas, representándola en una matriz $A$. Utilice *Python* para resolver.\n",
    "2. Interprete el elemento $a_{21}$ en el contexto del problema.\n",
    "3. Si para el próximo año se estima que la producción en Valparaíso aumenta en un $30\\%$, mientras que la de Temuco se reduce en un $10\\%$, represente la nueva producción total en la matriz $B$.\n",
    "4. Interprete el elemento $b_{13}$ en el contexto del problema."
   ]
  },
  {
   "cell_type": "code",
   "execution_count": 86,
   "metadata": {},
   "outputs": [
    {
     "name": "stdout",
     "output_type": "stream",
     "text": [
      "65  64  46  \n",
      "97  45  34  \n",
      "37  50  57  \n",
      "La capacidad de produccion mensual en A[2][1] para los pares blancos de zapatillas para niños de ambas fabricas juntas es de 97 mil pares\n",
      "La capacidad de produccion mensual en B[1][3] para los pares negros de zapatillas para caballeros de ambas fabricas juntas para el proximo año es de 49.4 mil pares\n"
     ]
    }
   ],
   "source": [
    "# Filas: Color del calzado\n",
    "# Columnas: Tipo de personas\n",
    "\n",
    "import numpy as np\n",
    "\n",
    "V = np.array([\n",
    "    [30, 34, 20],\n",
    "    [45, 20, 16],\n",
    "    [14, 26, 25]\n",
    "])\n",
    "\n",
    "T = np.array([\n",
    "    [35, 30, 26],\n",
    "    [52, 25, 18],\n",
    "    [23, 24, 32]\n",
    "])\n",
    "\n",
    "A = V + T\n",
    "\n",
    "for i in A:\n",
    "    for j in i:\n",
    "        print(round(j,1),end='  ')\n",
    "    print()\n",
    "\n",
    "print(f'La capacidad de produccion mensual en A[2][1] para los pares blancos de zapatillas para niños de ambas fabricas juntas es de {A[1][0]} mil pares')\n",
    "\n",
    "Va = V * 1.3\n",
    "Te = T * 0.9\n",
    "\n",
    "B = Va + Te\n",
    "\n",
    "print(f'La capacidad de produccion mensual en B[1][3] para los pares negros de zapatillas para caballeros de ambas fabricas juntas para el proximo año es de {B[0][2]:.1f} mil pares')"
   ]
  },
  {
   "cell_type": "markdown",
   "metadata": {
    "id": "eqY0UgBhQ1PL"
   },
   "source": [
    "# Problema 5"
   ]
  },
  {
   "cell_type": "markdown",
   "metadata": {
    "id": "6W2fcVlyU2Ze"
   },
   "source": [
    "Genere una matriz $M$ de orden $8 \\times 9$ donde cada término de la matriz está definido por:\n",
    "\n",
    "$$m_{ij} = 8i + 12j$$\n",
    "\n",
    "y calcule su transpuesta."
   ]
  },
  {
   "cell_type": "code",
   "execution_count": null,
   "metadata": {},
   "outputs": [],
   "source": [
    "import numpy as np\n",
    "\n",
    "M = np.array([])\n",
    "for i in range(1,13):\n",
    "    temp = list()  \n",
    "    for j in range(1,9):\n",
    "        if len(M):\n",
    "            temp.append(8*i + 12*j)\n",
    "        else:\n",
    "            temp.append(temp)\n"
   ]
  },
  {
   "cell_type": "markdown",
   "metadata": {
    "id": "GzG5888JV5Yc"
   },
   "source": [
    "# Problema 6"
   ]
  },
  {
   "cell_type": "markdown",
   "metadata": {
    "id": "dHbVKHuLV71S"
   },
   "source": [
    "Genere dos matrices:\n",
    "\n",
    "*   Una matriz $A$ de orden $5 \\times 7$, con $a_{ij} = i \\cdot j.$\n",
    "*   Una matriz $B$ de orden $7 \\times 5$, con $b_{ij} = 15i - 2j.$\n",
    "\n",
    "y calcule $C = A^{T} + \\dfrac{1}{2}B$.\n",
    "\n"
   ]
  },
  {
   "cell_type": "markdown",
   "metadata": {
    "id": "HZJfudDGXjic"
   },
   "source": [
    "# Problema 7"
   ]
  },
  {
   "cell_type": "markdown",
   "metadata": {
    "id": "Z-C9zGeKYQ11"
   },
   "source": [
    "Una red de sensores recoge datos de temperatura ($°C$), humedad (porcentaje) y presión (hPa) en cinco días distintos (de lunes a viernes). Los datos medidos se muestran en la matriz $D$:\n",
    "\n",
    "<br>\n",
    "\n",
    "\\begin{equation*}\n",
    "\\begin{matrix}\n",
    "& \\begin{matrix}\n",
    " & Lu  \\ \\ &Ma \\ \\ &Mi \\ \\ & Ju \\ \\ &Vi\n",
    "\\end{matrix} \\\\\n",
    "&D = \\begin{pmatrix}\n",
    "20    &  28    &  22    &  26     &  24   \\\\\n",
    "52    &  57    &  56    &  54     &  58   \\\\\n",
    "1.066 &  1.068 &  1.066 &  1.064  &  1.068 \\\\\n",
    "\\end{pmatrix} & \\ \\begin{matrix}\n",
    "Cº\\\\\n",
    "\\% \\\\\n",
    "hPa\n",
    "\\end{matrix}\\\\\n",
    "\\end{matrix}\n",
    "\\end{equation*}\n",
    "\n",
    "<br>\n",
    "\n",
    "Se sabe que por un error de calibración de los sensores, las medidas registradas deberían ser un $5\\%$ menores que las registradas.\n",
    "\n",
    "1. Calcule en una matriz $S$ los valores correctos de temperatura, humedad y presión. Utilice *Python* para calcular.\n",
    "2. Obtenga la matriz $S^{T}$.\n",
    "3. Interprete los elementos $s_{24}$ y $s_{31}^{T}$.\n"
   ]
  },
  {
   "cell_type": "markdown",
   "metadata": {
    "id": "9py029xQlSq6"
   },
   "source": [
    "# Problema 8"
   ]
  },
  {
   "cell_type": "markdown",
   "metadata": {
    "id": "icNvmShQmtrx"
   },
   "source": [
    "Una empresa tecnológica vende software y hardware en tres productos: $P_{1}$, $P_{2}$ y $P_{3}$, en cuatro zonas de la capital: norte, sur, este y oeste. Las ventas del mes, en millones de pesos, están registradas en las matrices $S$ y $H$, para software y hardware respectivamente.\n",
    "\n",
    "<br>\n",
    "\n",
    "\\begin{split}\n",
    "S = \\begin{pmatrix}\n",
    " 260 &  480 &  180  &  90  \\\\\n",
    " 320 &  440 &  250  &  280 \\\\\n",
    " 240 &  360 &  380  &  250  \\\\\n",
    "\\end{pmatrix} \\text{ } H = \\begin{pmatrix}\n",
    " 360 &  250 &  300  &  250  \\\\\n",
    " 450 &  500 &  350  &  380 \\\\\n",
    " 290 &  300 &  460  &  400  \\\\\n",
    "\\end{pmatrix}\n",
    "\\end{split}\n",
    "\n",
    "<br>\n",
    "\n",
    "1. Calcule en la matriz $T$, del total de ventas de la empresa tecnológica.\n",
    "2. Un trabajador indica que este mes, la sucursal de la zona sur recaudó más por la venta hardware que software, ¿es correcta su afirmación?\n",
    "3. Debido al black friday se espera que el siguiente mes, las ventas de software aumenten un $7\\%$ y las de hardware aumenten un $3\\%$ respecto al mes actual. Encuentra en total de ventas esperadas para el siguiente mes y almacénalo en la matriz $M$. Utiliza *Python* para realizar los cálculos.\n",
    "4. Interpreta los elementos $t_{24}$ y $m_{31}$ en el contexto del problema.\n",
    "5. Calcula la matriz $M^{T}$ e interpreta el elemento $m_{41}^{T}$ en el contexto del problema.\n"
   ]
  }
 ],
 "metadata": {
  "colab": {
   "provenance": []
  },
  "kernelspec": {
   "display_name": "Python 3",
   "name": "python3"
  },
  "language_info": {
   "codemirror_mode": {
    "name": "ipython",
    "version": 3
   },
   "file_extension": ".py",
   "mimetype": "text/x-python",
   "name": "python",
   "nbconvert_exporter": "python",
   "pygments_lexer": "ipython3",
   "version": "3.11.4"
  }
 },
 "nbformat": 4,
 "nbformat_minor": 0
}
